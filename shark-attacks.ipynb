{
 "cells": [
  {
   "cell_type": "code",
   "execution_count": 1,
   "metadata": {
    "_cell_guid": "53c0af14-cff7-39bf-11f8-fbad9780be5e"
   },
   "outputs": [],
   "source": [
    "import pandas as pd\n",
    "import numpy as np\n",
    "\n",
    "import nltk\n",
    "from gensim import corpora, models\n",
    "from nltk.stem import WordNetLemmatizer\n",
    "\n",
    "import matplotlib.pyplot as plt\n",
    "import seaborn as sns\n",
    "\n",
    "sns.set(style=\"whitegrid\")\n",
    "sns.set_color_codes(\"pastel\")\n",
    "%matplotlib inline\n",
    "\n",
    "from collections import Counter"
   ]
  },
  {
   "cell_type": "code",
   "execution_count": 2,
   "metadata": {
    "_cell_guid": "3f90cac1-8cd9-4e44-dc68-7335095c7892"
   },
   "outputs": [],
   "source": [
    "data = pd.read_csv('./attacks.csv', encoding = 'ISO-8859-1')"
   ]
  },
  {
   "cell_type": "markdown",
   "metadata": {
    "_cell_guid": "cb92da85-8306-e2b9-c3dc-2ef7e44f2266"
   },
   "source": [
    "## Quick Review"
   ]
  },
  {
   "cell_type": "code",
   "execution_count": 3,
   "metadata": {
    "_cell_guid": "cefab0a7-caa0-673f-3440-fa00cc173fd0"
   },
   "outputs": [
    {
     "data": {
      "text/html": [
       "<div>\n",
       "<style scoped>\n",
       "    .dataframe tbody tr th:only-of-type {\n",
       "        vertical-align: middle;\n",
       "    }\n",
       "\n",
       "    .dataframe tbody tr th {\n",
       "        vertical-align: top;\n",
       "    }\n",
       "\n",
       "    .dataframe thead th {\n",
       "        text-align: right;\n",
       "    }\n",
       "</style>\n",
       "<table border=\"1\" class=\"dataframe\">\n",
       "  <thead>\n",
       "    <tr style=\"text-align: right;\">\n",
       "      <th></th>\n",
       "      <th>Case Number</th>\n",
       "      <th>Date</th>\n",
       "      <th>Year</th>\n",
       "      <th>Type</th>\n",
       "      <th>Country</th>\n",
       "      <th>Area</th>\n",
       "      <th>Location</th>\n",
       "      <th>Activity</th>\n",
       "      <th>Name</th>\n",
       "      <th>Sex</th>\n",
       "      <th>...</th>\n",
       "      <th>Species</th>\n",
       "      <th>Investigator or Source</th>\n",
       "      <th>pdf</th>\n",
       "      <th>href formula</th>\n",
       "      <th>href</th>\n",
       "      <th>Case Number.1</th>\n",
       "      <th>Case Number.2</th>\n",
       "      <th>original order</th>\n",
       "      <th>Unnamed: 22</th>\n",
       "      <th>Unnamed: 23</th>\n",
       "    </tr>\n",
       "  </thead>\n",
       "  <tbody>\n",
       "    <tr>\n",
       "      <th>0</th>\n",
       "      <td>2017.11.30.b</td>\n",
       "      <td>30-Nov-2017</td>\n",
       "      <td>2017.0</td>\n",
       "      <td>Unprovoked</td>\n",
       "      <td>COSTA RICA</td>\n",
       "      <td>Cocos Island</td>\n",
       "      <td>Manuelita</td>\n",
       "      <td>Scuba Diving</td>\n",
       "      <td>__ Jimenez</td>\n",
       "      <td>M</td>\n",
       "      <td>...</td>\n",
       "      <td>Tiger shark, female</td>\n",
       "      <td>R. Arauz</td>\n",
       "      <td>2017.11.30.b-Jimenez.pdf</td>\n",
       "      <td>http://sharkattackfile.net/spreadsheets/pdf_di...</td>\n",
       "      <td>http://sharkattackfile.net/spreadsheets/pdf_di...</td>\n",
       "      <td>2017.11.30.b</td>\n",
       "      <td>2017.11.30.b</td>\n",
       "      <td>6221.0</td>\n",
       "      <td>NaN</td>\n",
       "      <td>NaN</td>\n",
       "    </tr>\n",
       "    <tr>\n",
       "      <th>1</th>\n",
       "      <td>2017.11.30.a</td>\n",
       "      <td>30-Nov-2017</td>\n",
       "      <td>2017.0</td>\n",
       "      <td>Unprovoked</td>\n",
       "      <td>COSTA RICA</td>\n",
       "      <td>Cocos Island</td>\n",
       "      <td>Manuelita</td>\n",
       "      <td>Scuba diving</td>\n",
       "      <td>Rohina Bhandari</td>\n",
       "      <td>F</td>\n",
       "      <td>...</td>\n",
       "      <td>Tiger shark, female</td>\n",
       "      <td>R. Arauz</td>\n",
       "      <td>2017.11.30.a-Bhandari.pdf</td>\n",
       "      <td>http://sharkattackfile.net/spreadsheets/pdf_di...</td>\n",
       "      <td>http://sharkattackfile.net/spreadsheets/pdf_di...</td>\n",
       "      <td>2017.11.30.a</td>\n",
       "      <td>2017.11.30.a</td>\n",
       "      <td>6220.0</td>\n",
       "      <td>NaN</td>\n",
       "      <td>NaN</td>\n",
       "    </tr>\n",
       "  </tbody>\n",
       "</table>\n",
       "<p>2 rows × 24 columns</p>\n",
       "</div>"
      ],
      "text/plain": [
       "    Case Number         Date    Year        Type     Country          Area  \\\n",
       "0  2017.11.30.b  30-Nov-2017  2017.0  Unprovoked  COSTA RICA  Cocos Island   \n",
       "1  2017.11.30.a  30-Nov-2017  2017.0  Unprovoked  COSTA RICA  Cocos Island   \n",
       "\n",
       "    Location      Activity             Name Sex      ...      \\\n",
       "0  Manuelita  Scuba Diving       __ Jimenez    M     ...       \n",
       "1  Manuelita  Scuba diving  Rohina Bhandari    F     ...       \n",
       "\n",
       "              Species  Investigator or Source                        pdf  \\\n",
       "0  Tiger shark, female               R. Arauz   2017.11.30.b-Jimenez.pdf   \n",
       "1  Tiger shark, female               R. Arauz  2017.11.30.a-Bhandari.pdf   \n",
       "\n",
       "                                        href formula  \\\n",
       "0  http://sharkattackfile.net/spreadsheets/pdf_di...   \n",
       "1  http://sharkattackfile.net/spreadsheets/pdf_di...   \n",
       "\n",
       "                                                href Case Number.1  \\\n",
       "0  http://sharkattackfile.net/spreadsheets/pdf_di...  2017.11.30.b   \n",
       "1  http://sharkattackfile.net/spreadsheets/pdf_di...  2017.11.30.a   \n",
       "\n",
       "  Case Number.2 original order Unnamed: 22 Unnamed: 23  \n",
       "0  2017.11.30.b         6221.0         NaN         NaN  \n",
       "1  2017.11.30.a         6220.0         NaN         NaN  \n",
       "\n",
       "[2 rows x 24 columns]"
      ]
     },
     "execution_count": 3,
     "metadata": {},
     "output_type": "execute_result"
    }
   ],
   "source": [
    "data.head(2)"
   ]
  },
  {
   "cell_type": "markdown",
   "metadata": {
    "_cell_guid": "e2481269-ea74-3ab1-3fb4-2f77d5bb4908"
   },
   "source": [
    "## Working with Dataset"
   ]
  },
  {
   "cell_type": "code",
   "execution_count": 4,
   "metadata": {
    "_cell_guid": "31279c49-4451-6277-0046-52f063800f67"
   },
   "outputs": [],
   "source": [
    "names = list(data.columns)\n",
    "names[9] = 'Sex'\n",
    "names[12] = 'Fatal'\n",
    "names[14] = 'Species'\n",
    "data.columns = names"
   ]
  },
  {
   "cell_type": "code",
   "execution_count": 5,
   "metadata": {
    "_cell_guid": "4205accc-a88e-8b68-1c8b-113b1c163476"
   },
   "outputs": [],
   "source": [
    "def year_prettify(year):\n",
    "    if year > 1000: \n",
    "        return year\n",
    "    else:\n",
    "        return np.nan\n",
    "    \n",
    "def sex_prettify(sex):\n",
    "    if sex == 'M' or sex == 'F':\n",
    "        return sex\n",
    "    else:\n",
    "        return np.nan\n",
    "    \n",
    "def age_prettify(age):\n",
    "    try:\n",
    "        age = int(age)\n",
    "    except ValueError:\n",
    "        age = 0\n",
    "        \n",
    "    if (age > 0 and age <= 100):\n",
    "        return age\n",
    "    else:\n",
    "        return np.nan\n",
    "    \n",
    "def fatal_prettify(fatal):\n",
    "    if fatal == 'N' or fatal == 'Y':\n",
    "        return fatal\n",
    "    else:\n",
    "        return np.nan\n",
    "    \n",
    "def date_prettify(date):\n",
    "    months = ['Jan', 'Feb', 'Mar', 'Apr', 'May', 'Jun', 'Jul', 'Aug', 'Sep', 'Oct', 'Nov', 'Dec']\n",
    "    num_months = ['01', '02', '03', '04', '05', '06', '07', '08', '09', '10', '11', '12']\n",
    "    \n",
    "    date = str(date)\n",
    "    if (len(date) == 11 and date[2] == '-'):\n",
    "        for i in range(len(months)):\n",
    "            date = date.replace(months[i], num_months[i])\n",
    "        return date\n",
    "    else:\n",
    "        return np.nan"
   ]
  },
  {
   "cell_type": "code",
   "execution_count": 6,
   "metadata": {
    "_cell_guid": "f3bec27a-06df-27b7-9cf7-9ea2ff3a323d"
   },
   "outputs": [],
   "source": [
    "data['Year'] = data['Year'].apply(year_prettify)\n",
    "data['Sex'] = data['Sex'].apply(sex_prettify)\n",
    "data['Age'].fillna(0, inplace=True)\n",
    "data['Age'] = data['Age'].apply(age_prettify)\n",
    "data['Fatal'] = data['Fatal'].apply(fatal_prettify)"
   ]
  },
  {
   "cell_type": "code",
   "execution_count": 7,
   "metadata": {
    "_cell_guid": "eb2e4153-ea95-8e73-ad23-f2f9970be657"
   },
   "outputs": [],
   "source": [
    "data['Date'] = data['Date'].apply(date_prettify)"
   ]
  },
  {
   "cell_type": "markdown",
   "metadata": {
    "_cell_guid": "1471733e-3d28-8c0b-adbc-f5ee13ae4cbb"
   },
   "source": [
    "## Fatal Chart"
   ]
  },
  {
   "cell_type": "code",
   "execution_count": 8,
   "metadata": {
    "_cell_guid": "0cd63145-97bd-60f1-8ece-7d1826bce980"
   },
   "outputs": [],
   "source": [
    "fatal_vals = data['Fatal'].value_counts().tolist()"
   ]
  },
  {
   "cell_type": "code",
   "execution_count": 9,
   "metadata": {
    "_cell_guid": "fa35c0be-30dd-f698-fe4b-ef2a2e1f45ce"
   },
   "outputs": [
    {
     "data": {
      "image/png": "[encoded data removed]",
      "text/plain": [
       "<matplotlib.figure.Figure at 0x10d589e10>"
      ]
     },
     "metadata": {},
     "output_type": "display_data"
    }
   ],
   "source": [
    "f, ax = plt.subplots(figsize=(5, 5))\n",
    "\n",
    "labels = ['Not Fatal', 'Fatal']\n",
    "colors = ['#d6d1f5', '#ed639e']\n",
    "\n",
    "plt.pie(fatal_vals, labels=labels, colors=colors,\n",
    "        autopct='%1.1f%%', startangle=90)\n",
    " \n",
    "axis = plt.axis('equal')"
   ]
  },
  {
   "cell_type": "markdown",
   "metadata": {
    "_cell_guid": "2468eb21-a92d-9c9a-c7f0-e3c90bd1b33d"
   },
   "source": [
    "## Sex Chart"
   ]
  },
  {
   "cell_type": "code",
   "execution_count": 10,
   "metadata": {
    "_cell_guid": "90811410-bfe3-07f2-3b11-15cb61a0683d"
   },
   "outputs": [],
   "source": [
    "sex_vals = data['Sex'].value_counts().tolist()"
   ]
  },
  {
   "cell_type": "code",
   "execution_count": 11,
   "metadata": {
    "_cell_guid": "c549fd9b-983d-ef52-fd7d-93e0bbf187d4"
   },
   "outputs": [
    {
     "data": {
      "image/png": "[encoded data removed]",
      "text/plain": [
       "<matplotlib.figure.Figure at 0x101d964a8>"
      ]
     },
     "metadata": {},
     "output_type": "display_data"
    }
   ],
   "source": [
    "f, ax = plt.subplots(figsize=(5, 5))\n",
    "\n",
    "labels = ['Male', 'Female']\n",
    "colors = ['#d6d1f5', '#ed639e']\n",
    "\n",
    "plt.pie(sex_vals, labels=labels, colors=colors,\n",
    "        autopct='%1.1f%%', startangle=90)\n",
    "\n",
    "axis = plt.axis('equal')"
   ]
  },
  {
   "cell_type": "markdown",
   "metadata": {
    "_cell_guid": "d56a50a6-43be-80eb-f6dd-0d4cde63a079"
   },
   "source": [
    "## Age Chart"
   ]
  },
  {
   "cell_type": "code",
   "execution_count": 12,
   "metadata": {
    "_cell_guid": "14d61a04-38b4-dd7e-2c70-2c7d750f541c"
   },
   "outputs": [
    {
     "data": {
      "image/png": "[encoded data removed]",
      "text/plain": [
       "<matplotlib.figure.Figure at 0x101dd3780>"
      ]
     },
     "metadata": {},
     "output_type": "display_data"
    }
   ],
   "source": [
    "fig, ax = plt.subplots(figsize=(8, 6))\n",
    "\n",
    "sns.distplot(data['Age'].dropna(),  \n",
    "             hist_kws={\"alpha\": 1, \"color\": \"#4535aa\"}, \n",
    "             kde=False, bins=15)\n",
    "\n",
    "ax = ax.set(ylabel=\"Count\", xlabel=\"Age\")"
   ]
  },
  {
   "cell_type": "markdown",
   "metadata": {
    "_cell_guid": "6cf63eea-9600-4cb5-e76e-be502d0a25d8"
   },
   "source": [
    "## Top Activities"
   ]
  },
  {
   "cell_type": "code",
   "execution_count": 13,
   "metadata": {
    "_cell_guid": "5dc64257-c4d1-629e-5995-e4fcb9f696a4"
   },
   "outputs": [],
   "source": [
    "most_common_activities = Counter(data['Activity'].dropna().tolist()).most_common(20)\n",
    "activities = [actv_list[0] for actv_list in most_common_activities]\n",
    "counts = [actv_list[1] for actv_list in most_common_activities]"
   ]
  },
  {
   "cell_type": "code",
   "execution_count": 14,
   "metadata": {
    "_cell_guid": "2287abf5-1580-14e3-4fd0-b34b61efc96f"
   },
   "outputs": [
    {
     "data": {
      "image/png": "[encoded data removed]",
      "text/plain": [
       "<matplotlib.figure.Figure at 0x101dd3ac8>"
      ]
     },
     "metadata": {},
     "output_type": "display_data"
    }
   ],
   "source": [
    "fig, ax = plt.subplots(figsize=(12, 5))\n",
    "\n",
    "sns.barplot(x=activities, y=counts, color='#4535aa', ax=ax)\n",
    "ax.set(ylabel=\"Attacks Count\", xlabel=\"Activities\")\n",
    "\n",
    "ticks = plt.setp(ax.get_xticklabels(), rotation=60, fontsize=9)"
   ]
  },
  {
   "cell_type": "markdown",
   "metadata": {
    "_cell_guid": "90e8efd2-8212-717a-40e5-86a90a125072"
   },
   "source": [
    "## Species"
   ]
  },
  {
   "cell_type": "code",
   "execution_count": 15,
   "metadata": {
    "_cell_guid": "6c0a1d45-ad7d-b060-46c6-1eb274e1a9ba"
   },
   "outputs": [
    {
     "name": "stdout",
     "output_type": "stream",
     "text": [
      "White shark\n",
      "Shark involvement prior to death was not confirmed\n",
      "Invalid\n",
      "Shark involvement not confirmed\n",
      "Tiger shark\n",
      "Shark involvement prior to death unconfirmed\n",
      "Bull shark\n",
      "4' shark\n",
      "6' shark\n",
      "1.8 m [6'] shark\n",
      "Questionable incident\n",
      "Questionable\n",
      "1.5 m [5'] shark\n",
      "5' shark\n",
      "1.2 m [4'] shark\n",
      "3' shark\n",
      "4' to 5' shark\n",
      "2 m shark\n",
      "3 m [10'] shark\n",
      "No shark involvement\n"
     ]
    }
   ],
   "source": [
    "most_common_species = Counter(data['Species'].dropna().tolist()).most_common(20)\n",
    "\n",
    "species = [species_list[0] for species_list in most_common_species]\n",
    "for i in species:\n",
    "    print(i)"
   ]
  },
  {
   "cell_type": "markdown",
   "metadata": {
    "_cell_guid": "6d87c477-ee6d-f798-e718-8db82080d51b"
   },
   "source": [
    "## Working with Dates"
   ]
  },
  {
   "cell_type": "code",
   "execution_count": 16,
   "metadata": {
    "_cell_guid": "db3e38a5-b355-3d98-a58d-41f5ba46b768"
   },
   "outputs": [],
   "source": [
    "dates = pd.to_datetime(data['Date'], dayfirst=True, errors='coerce')"
   ]
  },
  {
   "cell_type": "code",
   "execution_count": 17,
   "metadata": {
    "_cell_guid": "5e8060e4-fe05-3554-038e-507afcc79baf"
   },
   "outputs": [],
   "source": [
    "days = dates.dropna().map(lambda x: x.day)\n",
    "\n",
    "days_counter = Counter(days)\n",
    "days_keys = list(days_counter.keys())\n",
    "days_values = list(days_counter.values())"
   ]
  },
  {
   "cell_type": "code",
   "execution_count": 18,
   "metadata": {
    "_cell_guid": "c1a68891-9060-c8b2-a788-4dbf97f4564c"
   },
   "outputs": [],
   "source": [
    "months = dates.dropna().map(lambda x: x.month)\n",
    "\n",
    "def get_season(month):\n",
    "    if month >= 3 and month <= 5:\n",
    "        return 'spring'\n",
    "    elif month >= 6 and month <= 8:\n",
    "        return 'summer'\n",
    "    elif month >= 9 and month <= 11:\n",
    "        return 'autumn'\n",
    "    else:\n",
    "        return 'winter'\n",
    "\n",
    "months_labels = months.apply(get_season)\n",
    "\n",
    "months_counter = Counter(months_labels)\n",
    "months_keys = list(months_counter.keys())\n",
    "months_values = list(months_counter.values())"
   ]
  },
  {
   "cell_type": "markdown",
   "metadata": {
    "_cell_guid": "c8af1285-8963-3326-2c18-dd18f0e42b1e"
   },
   "source": [
    "### Days"
   ]
  },
  {
   "cell_type": "code",
   "execution_count": 19,
   "metadata": {
    "_cell_guid": "3ea61967-ddeb-1757-dafe-0147ad0b7736"
   },
   "outputs": [
    {
     "data": {
      "image/png": "[encoded data removed]",
      "text/plain": [
       "<matplotlib.figure.Figure at 0x10dd192b0>"
      ]
     },
     "metadata": {},
     "output_type": "display_data"
    }
   ],
   "source": [
    "fig, ax = plt.subplots(figsize=(10, 3))\n",
    "sns.barplot(x=days_keys, y=days_values, color='#4535aa', ax=ax)\n",
    "ax = ax.set(ylabel=\"Attacks Count\", xlabel=\"Day\")"
   ]
  },
  {
   "cell_type": "markdown",
   "metadata": {
    "_cell_guid": "347e6546-6428-8fa9-0bd5-c57400740b0b"
   },
   "source": [
    "### Months"
   ]
  },
  {
   "cell_type": "code",
   "execution_count": 20,
   "metadata": {
    "_cell_guid": "f0f9cc18-a39b-6146-1a86-5d38c23c33ba"
   },
   "outputs": [
    {
     "data": {
      "image/png": "[encoded data removed]",
      "text/plain": [
       "<matplotlib.figure.Figure at 0x10dd19828>"
      ]
     },
     "metadata": {},
     "output_type": "display_data"
    }
   ],
   "source": [
    "fig, ax = plt.subplots(figsize=(6, 3))\n",
    "sns.barplot(x=months_keys, y=months_values, color='#4535aa', ax=ax)\n",
    "ax = ax.set(ylabel=\"Attacks Count\", xlabel=\"Month\")"
   ]
  },
  {
   "cell_type": "markdown",
   "metadata": {
    "_cell_guid": "d89ad9e2-6cfa-ee35-aab0-e74060518bff"
   },
   "source": [
    "## Exploring Injury Causes"
   ]
  },
  {
   "cell_type": "code",
   "execution_count": 21,
   "metadata": {
    "_cell_guid": "5b41b359-3864-44bf-42cd-837d20f69b90"
   },
   "outputs": [],
   "source": [
    "activity_texts = data['Injury'].tolist()"
   ]
  },
  {
   "cell_type": "code",
   "execution_count": 22,
   "metadata": {},
   "outputs": [
    {
     "data": {
      "text/plain": [
       "['Serious injury to leg',\n",
       " 'FATAL',\n",
       " 'FATAL',\n",
       " 'Right leg bitten',\n",
       " 'Heel bitten',\n",
       " 'Puncture wounds to feet',\n",
       " 'Puncture wounds to left shoulder',\n",
       " 'FATAL',\n",
       " 'Calf injured',\n",
       " 'Minor injury to foot']"
      ]
     },
     "execution_count": 22,
     "metadata": {},
     "output_type": "execute_result"
    }
   ],
   "source": [
    "activity_texts[:10]"
   ]
  },
  {
   "cell_type": "code",
   "execution_count": 23,
   "metadata": {
    "_cell_guid": "3eb5060b-cf67-f7c2-df3e-d99db3474173"
   },
   "outputs": [],
   "source": [
    "wordnet_lemmatizer = WordNetLemmatizer()"
   ]
  },
  {
   "cell_type": "code",
   "execution_count": 24,
   "metadata": {
    "_cell_guid": "ff479dba-2982-3fca-742e-e3357a34a025"
   },
   "outputs": [],
   "source": [
    "def keep_only_letters(text):\n",
    "    cleaned_text = ''\n",
    "    for char in text:\n",
    "        if (char.isalpha() or char == ' '):\n",
    "            cleaned_text += char\n",
    "    return cleaned_text"
   ]
  },
  {
   "cell_type": "code",
   "execution_count": 25,
   "metadata": {
    "_cell_guid": "1ab06a22-dbac-8e0f-e7f0-6bd569824606"
   },
   "outputs": [],
   "source": [
    "lemm_activity_texts = []\n",
    "for text in activity_texts:\n",
    "    text = keep_only_letters(str(text)).lower()   \n",
    "    lemm_text = []\n",
    "    for word in text.split():\n",
    "        lemm_text.append(wordnet_lemmatizer.lemmatize(word))\n",
    "    lemm_activity_texts.append(lemm_text)"
   ]
  },
  {
   "cell_type": "code",
   "execution_count": 26,
   "metadata": {
    "_cell_guid": "bf4688e8-9943-3181-72fb-928d8b4d5307"
   },
   "outputs": [],
   "source": [
    "dictionary = corpora.Dictionary(lemm_activity_texts)"
   ]
  },
  {
   "cell_type": "code",
   "execution_count": 27,
   "metadata": {
    "_cell_guid": "566076b2-f748-9d60-9503-38c39f028da4"
   },
   "outputs": [],
   "source": [
    "word_list = []\n",
    "for key, value in dictionary.dfs.items():\n",
    "    if value > 50:\n",
    "        word_list.append(key)"
   ]
  },
  {
   "cell_type": "code",
   "execution_count": 28,
   "metadata": {
    "_cell_guid": "51344f16-604c-bd95-1d78-eddad08bc98b"
   },
   "outputs": [],
   "source": [
    "dictionary.filter_tokens(word_list)\n",
    "corpus = [dictionary.doc2bow(text) for text in lemm_activity_texts]"
   ]
  },
  {
   "cell_type": "code",
   "execution_count": 29,
   "metadata": {
    "_cell_guid": "1080bfc0-5a1e-53cf-8928-c171a9836ca5"
   },
   "outputs": [
    {
     "name": "stderr",
     "output_type": "stream",
     "text": [
      "/anaconda3/lib/python3.6/site-packages/gensim-3.4.0-py3.6-macosx-10.7-x86_64.egg/gensim/models/ldamodel.py:579: RuntimeWarning: divide by zero encountered in double_scalars\n",
      "  perwordbound = self.bound(chunk, subsample_ratio=subsample_ratio) / (subsample_ratio * corpus_words)\n"
     ]
    }
   ],
   "source": [
    "np.random.seed(76543)\n",
    "lda = models.LdaModel(corpus, num_topics=20, id2word=dictionary, passes=5)"
   ]
  },
  {
   "cell_type": "code",
   "execution_count": 30,
   "metadata": {},
   "outputs": [],
   "source": [
    "topics = lda.show_topics(num_topics=20, num_words=5, formatted=False)"
   ]
  },
  {
   "cell_type": "code",
   "execution_count": 31,
   "metadata": {
    "_cell_guid": "321a129d-2d21-6094-b5b3-bbf3f923cd63"
   },
   "outputs": [
    {
     "name": "stdout",
     "output_type": "stream",
     "text": [
      "Cause 1: side, face, dinghy, propeller, raft\n",
      "Cause 2: struck, then, knocked, mark, shot\n",
      "Cause 3: thought, thumb, rudder, be, tooth\n",
      "Cause 4: fish, seized, lifted, piece, tail\n",
      "Cause 5: presumed, ashore, some, an, x\n",
      "Cause 6: elbow, attack, that, died, crew\n",
      "Cause 7: killed, below, may, men, due\n",
      "Cause 8: head, damaged, small, neck, said\n",
      "Cause 9: shin, ski, holed, large, diving\n",
      "Cause 10: hit, bruised, torn, femur, harpooned\n",
      "Cause 11: found, speared, disappeared, upper, had\n",
      "Cause 12: perished, nipped, unconfirmed, time, prior\n",
      "Cause 13: human, swim, tiger, gut, defense\n",
      "Cause 14: caught, abraded, man, or, out\n",
      "Cause 15: netted, survivor, people, lost, inch\n",
      "Cause 16: probable, scavenging, captive, made, onboard\n",
      "Cause 17: day, kayak, two, rescued, other\n",
      "Cause 18: above, oar, drowned, broken, artery\n",
      "Cause 19: into, removed, leapt, one, her\n",
      "Cause 20: grabbed, tail, multiple, took, dorsum\n"
     ]
    }
   ],
   "source": [
    "topics = lda.show_topics(num_topics=20, num_words=5, formatted=False)\n",
    "for topic in topics:\n",
    "    num = int(topic[0]) + 1\n",
    "    print('Cause %d:' % num, end=' ')\n",
    "    print(', '.join([pair[0] for pair in topic[1]]))"
   ]
  }
 ],
 "metadata": {
  "_change_revision": 0,
  "_is_fork": false,
  "kernelspec": {
   "display_name": "Python 3",
   "language": "python",
   "name": "python3"
  },
  "language_info": {
   "codemirror_mode": {
    "name": "ipython",
    "version": 3
   },
   "file_extension": ".py",
   "mimetype": "text/x-python",
   "name": "python",
   "nbconvert_exporter": "python",
   "pygments_lexer": "ipython3",
   "version": "3.6.4"
  }
 },
 "nbformat": 4,
 "nbformat_minor": 1
}
